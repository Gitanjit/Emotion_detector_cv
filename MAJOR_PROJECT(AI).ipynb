{
 "cells": [
  {
   "cell_type": "code",
   "execution_count": 1,
   "metadata": {},
   "outputs": [
    {
     "name": "stdout",
     "output_type": "stream",
     "text": [
      "Preprocessing Done\n",
      "Number of Features: 48\n",
      "Number of Labels: 7\n",
      "Number of examples in dataset:35887\n",
      "X,y stored in fdataX.npy and flabels.npy respectively\n"
     ]
    }
   ],
   "source": [
    "import pandas as pd\n",
    "import numpy as np\n",
    "import warnings\n",
    "warnings.filterwarnings(\"ignore\")\n",
    "\n",
    "data = pd.read_csv('./fer2013.csv')\n",
    "\n",
    "width, height = 48, 48\n",
    "\n",
    "datapoints = data['pixels'].tolist()\n",
    "\n",
    "#getting features for training\n",
    "X = []\n",
    "for xseq in datapoints:\n",
    "    xx = [int(xp) for xp in xseq.split(' ')]\n",
    "    xx = np.asarray(xx).reshape(width, height)\n",
    "    X.append(xx.astype('float32'))\n",
    "\n",
    "X = np.asarray(X)\n",
    "X = np.expand_dims(X, -1)\n",
    "\n",
    "#getting labels for training\n",
    "y = pd.get_dummies(data['emotion']).to_numpy()\n",
    "#storing them using numpy\n",
    "np.save('fdataX', X)\n",
    "np.save('flabels', y)\n",
    "\n",
    "print(\"Preprocessing Done\")\n",
    "print(\"Number of Features: \"+str(len(X[0])))\n",
    "print(\"Number of Labels: \"+ str(len(y[0])))\n",
    "print(\"Number of examples in dataset:\"+str(len(X)))\n",
    "print(\"X,y stored in fdataX.npy and flabels.npy respectively\")"
   ]
  },
  {
   "cell_type": "code",
   "execution_count": 5,
   "metadata": {},
   "outputs": [],
   "source": [
    "import sys, os\n",
    "import pandas as pd\n",
    "import numpy as np\n",
    "from sklearn.model_selection import train_test_split\n",
    "from keras.models import Sequential\n",
    "from keras.layers import Dense, Dropout, Activation, Flatten\n",
    "from keras.layers import Conv2D, MaxPooling2D, BatchNormalization\n",
    "from keras.losses import categorical_crossentropy\n",
    "from keras.optimizers import Adam\n",
    "from keras.regularizers import l2\n",
    "\n",
    "num_features = 64\n",
    "num_labels = 7\n",
    "batch_size = 64\n",
    "epochs = 30\n",
    "width, height = 48, 48\n",
    "\n",
    "x = np.load('./fdataX.npy')\n",
    "y = np.load('./flabels.npy')\n",
    "\n",
    "x -= np.mean(x, axis=0)\n",
    "x /= np.std(x, axis=0)\n",
    "\n",
    "#for xx in range(10):\n",
    "#    plt.figure(xx)\n",
    "#    plt.imshow(x[xx].reshape((48, 48)), interpolation='none', cmap='gray')\n",
    "#plt.show()\n",
    "\n",
    "#splitting into training, validation and testing data\n",
    "X_train, X_test, y_train, y_test = train_test_split(x, y, test_size=0.1, random_state=42)\n",
    "X_train, X_valid, y_train, y_valid = train_test_split(X_train, y_train, test_size=0.1, random_state=41)\n",
    "\n",
    "#saving the test samples to be used later\n",
    "np.save('modXtest', X_test)\n",
    "np.save('modytest', y_test)"
   ]
  },
  {
   "cell_type": "code",
   "execution_count": 6,
   "metadata": {},
   "outputs": [
    {
     "name": "stdout",
     "output_type": "stream",
     "text": [
      "Model: \"sequential_1\"\n",
      "_________________________________________________________________\n",
      "Layer (type)                 Output Shape              Param #   \n",
      "=================================================================\n",
      "conv2d_8 (Conv2D)            (None, 46, 46, 64)        640       \n",
      "_________________________________________________________________\n",
      "conv2d_9 (Conv2D)            (None, 46, 46, 64)        36928     \n",
      "_________________________________________________________________\n",
      "batch_normalization_7 (Batch (None, 46, 46, 64)        256       \n",
      "_________________________________________________________________\n",
      "max_pooling2d_4 (MaxPooling2 (None, 23, 23, 64)        0         \n",
      "_________________________________________________________________\n",
      "dropout_7 (Dropout)          (None, 23, 23, 64)        0         \n",
      "_________________________________________________________________\n",
      "conv2d_10 (Conv2D)           (None, 23, 23, 128)       73856     \n",
      "_________________________________________________________________\n",
      "batch_normalization_8 (Batch (None, 23, 23, 128)       512       \n",
      "_________________________________________________________________\n",
      "conv2d_11 (Conv2D)           (None, 23, 23, 128)       147584    \n",
      "_________________________________________________________________\n",
      "batch_normalization_9 (Batch (None, 23, 23, 128)       512       \n",
      "_________________________________________________________________\n",
      "max_pooling2d_5 (MaxPooling2 (None, 11, 11, 128)       0         \n",
      "_________________________________________________________________\n",
      "dropout_8 (Dropout)          (None, 11, 11, 128)       0         \n",
      "_________________________________________________________________\n",
      "conv2d_12 (Conv2D)           (None, 11, 11, 256)       295168    \n",
      "_________________________________________________________________\n",
      "batch_normalization_10 (Batc (None, 11, 11, 256)       1024      \n",
      "_________________________________________________________________\n",
      "conv2d_13 (Conv2D)           (None, 11, 11, 256)       590080    \n",
      "_________________________________________________________________\n",
      "batch_normalization_11 (Batc (None, 11, 11, 256)       1024      \n",
      "_________________________________________________________________\n",
      "max_pooling2d_6 (MaxPooling2 (None, 5, 5, 256)         0         \n",
      "_________________________________________________________________\n",
      "dropout_9 (Dropout)          (None, 5, 5, 256)         0         \n",
      "_________________________________________________________________\n",
      "conv2d_14 (Conv2D)           (None, 5, 5, 512)         1180160   \n",
      "_________________________________________________________________\n",
      "batch_normalization_12 (Batc (None, 5, 5, 512)         2048      \n",
      "_________________________________________________________________\n",
      "conv2d_15 (Conv2D)           (None, 5, 5, 512)         2359808   \n",
      "_________________________________________________________________\n",
      "batch_normalization_13 (Batc (None, 5, 5, 512)         2048      \n",
      "_________________________________________________________________\n",
      "max_pooling2d_7 (MaxPooling2 (None, 2, 2, 512)         0         \n",
      "_________________________________________________________________\n",
      "dropout_10 (Dropout)         (None, 2, 2, 512)         0         \n",
      "_________________________________________________________________\n",
      "flatten_1 (Flatten)          (None, 2048)              0         \n",
      "_________________________________________________________________\n",
      "dense_4 (Dense)              (None, 512)               1049088   \n",
      "_________________________________________________________________\n",
      "dropout_11 (Dropout)         (None, 512)               0         \n",
      "_________________________________________________________________\n",
      "dense_5 (Dense)              (None, 256)               131328    \n",
      "_________________________________________________________________\n",
      "dropout_12 (Dropout)         (None, 256)               0         \n",
      "_________________________________________________________________\n",
      "dense_6 (Dense)              (None, 128)               32896     \n",
      "_________________________________________________________________\n",
      "dropout_13 (Dropout)         (None, 128)               0         \n",
      "_________________________________________________________________\n",
      "dense_7 (Dense)              (None, 7)                 903       \n",
      "=================================================================\n",
      "Total params: 5,905,863\n",
      "Trainable params: 5,902,151\n",
      "Non-trainable params: 3,712\n",
      "_________________________________________________________________\n"
     ]
    }
   ],
   "source": [
    "#desinging the CNN\n",
    "model = Sequential()\n",
    "\n",
    "model.add(Conv2D(num_features, kernel_size=(3, 3), activation='relu', input_shape=(width, height, 1), data_format='channels_last', kernel_regularizer=l2(0.01)))\n",
    "model.add(Conv2D(num_features, kernel_size=(3, 3), activation='relu', padding='same'))\n",
    "model.add(BatchNormalization())\n",
    "model.add(MaxPooling2D(pool_size=(2, 2), strides=(2, 2)))\n",
    "model.add(Dropout(0.5))\n",
    "\n",
    "model.add(Conv2D(2*num_features, kernel_size=(3, 3), activation='relu', padding='same'))\n",
    "model.add(BatchNormalization())\n",
    "model.add(Conv2D(2*num_features, kernel_size=(3, 3), activation='relu', padding='same'))\n",
    "model.add(BatchNormalization())\n",
    "model.add(MaxPooling2D(pool_size=(2, 2), strides=(2, 2)))\n",
    "model.add(Dropout(0.5))\n",
    "\n",
    "model.add(Conv2D(2*2*num_features, kernel_size=(3, 3), activation='relu', padding='same'))\n",
    "model.add(BatchNormalization())\n",
    "model.add(Conv2D(2*2*num_features, kernel_size=(3, 3), activation='relu', padding='same'))\n",
    "model.add(BatchNormalization())\n",
    "model.add(MaxPooling2D(pool_size=(2, 2), strides=(2, 2)))\n",
    "model.add(Dropout(0.5))\n",
    "\n",
    "model.add(Conv2D(2*2*2*num_features, kernel_size=(3, 3), activation='relu', padding='same'))\n",
    "model.add(BatchNormalization())\n",
    "model.add(Conv2D(2*2*2*num_features, kernel_size=(3, 3), activation='relu', padding='same'))\n",
    "model.add(BatchNormalization())\n",
    "model.add(MaxPooling2D(pool_size=(2, 2), strides=(2, 2)))\n",
    "model.add(Dropout(0.5))\n",
    "\n",
    "model.add(Flatten())\n",
    "\n",
    "model.add(Dense(2*2*2*num_features, activation='relu'))\n",
    "model.add(Dropout(0.4))\n",
    "model.add(Dense(2*2*num_features, activation='relu'))\n",
    "model.add(Dropout(0.4))\n",
    "model.add(Dense(2*num_features, activation='relu'))\n",
    "model.add(Dropout(0.5))\n",
    "\n",
    "model.add(Dense(num_labels, activation='softmax'))\n",
    "\n",
    "model.summary()"
   ]
  },
  {
   "cell_type": "code",
   "execution_count": 8,
   "metadata": {},
   "outputs": [
    {
     "name": "stdout",
     "output_type": "stream",
     "text": [
      "Epoch 1/30\n",
      "455/455 [==============================] - 1163s 3s/step - loss: 1.8650 - accuracy: 0.2325 - val_loss: 1.7960 - val_accuracy: 0.2625\n",
      "Epoch 2/30\n",
      "455/455 [==============================] - 1379s 3s/step - loss: 1.8254 - accuracy: 0.2465 - val_loss: 1.7830 - val_accuracy: 0.2594\n",
      "Epoch 3/30\n",
      "455/455 [==============================] - 1378s 3s/step - loss: 1.8073 - accuracy: 0.2487 - val_loss: 1.7743 - val_accuracy: 0.2591\n",
      "Epoch 4/30\n",
      "455/455 [==============================] - 1378s 3s/step - loss: 1.7610 - accuracy: 0.2790 - val_loss: 1.7594 - val_accuracy: 0.3025\n",
      "Epoch 5/30\n",
      "455/455 [==============================] - 1383s 3s/step - loss: 1.6642 - accuracy: 0.3285 - val_loss: 1.5281 - val_accuracy: 0.3808\n",
      "Epoch 6/30\n",
      "455/455 [==============================] - 1379s 3s/step - loss: 1.5568 - accuracy: 0.3897 - val_loss: 1.4296 - val_accuracy: 0.4279\n",
      "Epoch 7/30\n",
      "455/455 [==============================] - 1197s 3s/step - loss: 1.4858 - accuracy: 0.4124 - val_loss: 1.3892 - val_accuracy: 0.4396\n",
      "Epoch 8/30\n",
      "455/455 [==============================] - 1157s 3s/step - loss: 1.4340 - accuracy: 0.4329 - val_loss: 1.4006 - val_accuracy: 0.4362\n",
      "Epoch 9/30\n",
      "455/455 [==============================] - 1166s 3s/step - loss: 1.4004 - accuracy: 0.4479 - val_loss: 1.3169 - val_accuracy: 0.4752\n",
      "Epoch 10/30\n",
      "455/455 [==============================] - 1064s 2s/step - loss: 1.3586 - accuracy: 0.4709 - val_loss: 1.2483 - val_accuracy: 0.5207\n",
      "Epoch 11/30\n",
      "455/455 [==============================] - 1019s 2s/step - loss: 1.3332 - accuracy: 0.4867 - val_loss: 1.2842 - val_accuracy: 0.5115\n",
      "Epoch 12/30\n",
      "455/455 [==============================] - 977s 2s/step - loss: 1.2893 - accuracy: 0.5064 - val_loss: 1.2068 - val_accuracy: 0.5474\n",
      "Epoch 13/30\n",
      "455/455 [==============================] - 1022s 2s/step - loss: 1.2603 - accuracy: 0.5208 - val_loss: 1.2018 - val_accuracy: 0.5467\n",
      "Epoch 14/30\n",
      "455/455 [==============================] - 1105s 2s/step - loss: 1.2384 - accuracy: 0.5318 - val_loss: 1.1936 - val_accuracy: 0.5508\n",
      "Epoch 15/30\n",
      "455/455 [==============================] - 1096s 2s/step - loss: 1.2098 - accuracy: 0.5441 - val_loss: 1.1581 - val_accuracy: 0.5672\n",
      "Epoch 16/30\n",
      "455/455 [==============================] - 1102s 2s/step - loss: 1.1872 - accuracy: 0.5591 - val_loss: 1.1341 - val_accuracy: 0.5811\n",
      "Epoch 17/30\n",
      "455/455 [==============================] - 1092s 2s/step - loss: 1.1598 - accuracy: 0.5701 - val_loss: 1.1316 - val_accuracy: 0.5749\n",
      "Epoch 18/30\n",
      "455/455 [==============================] - 1344s 3s/step - loss: 1.1339 - accuracy: 0.5820 - val_loss: 1.1472 - val_accuracy: 0.5687\n",
      "Epoch 19/30\n",
      "455/455 [==============================] - 1377s 3s/step - loss: 1.1083 - accuracy: 0.5946 - val_loss: 1.1017 - val_accuracy: 0.5901\n",
      "Epoch 20/30\n",
      "455/455 [==============================] - 1377s 3s/step - loss: 1.0841 - accuracy: 0.6038 - val_loss: 1.0878 - val_accuracy: 0.5975\n",
      "Epoch 21/30\n",
      "455/455 [==============================] - 1384s 3s/step - loss: 1.0582 - accuracy: 0.6133 - val_loss: 1.1032 - val_accuracy: 0.5941\n",
      "Epoch 22/30\n",
      "455/455 [==============================] - 1377s 3s/step - loss: 1.0398 - accuracy: 0.6226 - val_loss: 1.1060 - val_accuracy: 0.5988\n",
      "Epoch 23/30\n",
      "455/455 [==============================] - 1389s 3s/step - loss: 1.0288 - accuracy: 0.6252 - val_loss: 1.0518 - val_accuracy: 0.6105\n",
      "Epoch 24/30\n",
      "455/455 [==============================] - 1250s 3s/step - loss: 0.9984 - accuracy: 0.6366 - val_loss: 1.0858 - val_accuracy: 0.6087\n",
      "Epoch 25/30\n",
      "455/455 [==============================] - 1162s 3s/step - loss: 0.9872 - accuracy: 0.6431 - val_loss: 1.0477 - val_accuracy: 0.6207\n",
      "Epoch 26/30\n",
      "455/455 [==============================] - 1349s 3s/step - loss: 0.9629 - accuracy: 0.6505 - val_loss: 1.0536 - val_accuracy: 0.6158\n",
      "Epoch 27/30\n",
      "455/455 [==============================] - 1138s 3s/step - loss: 0.9445 - accuracy: 0.6591 - val_loss: 1.0605 - val_accuracy: 0.6204\n",
      "Epoch 28/30\n",
      "455/455 [==============================] - 962s 2s/step - loss: 0.9262 - accuracy: 0.6673 - val_loss: 1.0497 - val_accuracy: 0.6260\n",
      "Epoch 29/30\n",
      "455/455 [==============================] - 951s 2s/step - loss: 0.9169 - accuracy: 0.6739 - val_loss: 1.0400 - val_accuracy: 0.6294\n",
      "Epoch 30/30\n",
      "455/455 [==============================] - 949s 2s/step - loss: 0.8857 - accuracy: 0.6805 - val_loss: 1.0291 - val_accuracy: 0.6316\n",
      "Saved model to disk\n"
     ]
    }
   ],
   "source": [
    "#Compliling the model with adam optimixer and categorical crossentropy loss\n",
    "model.compile(loss=categorical_crossentropy,\n",
    "              optimizer=Adam(lr=0.001, beta_1=0.9, beta_2=0.999, epsilon=1e-7),\n",
    "              metrics=['accuracy'])\n",
    "\n",
    "#training the model\n",
    "model.fit(np.array(X_train), np.array(y_train),\n",
    "          batch_size=batch_size,\n",
    "          epochs=epochs,\n",
    "          verbose=1,\n",
    "          validation_data=(np.array(X_valid), np.array(y_valid)),\n",
    "          shuffle=True)\n",
    "\n",
    "#saving the  model to be used later\n",
    "fer_json = model.to_json()\n",
    "with open(\"fer.json\", \"w\") as json_file:\n",
    "    json_file.write(fer_json)\n",
    "model.save_weights(\"fer.h5\")\n",
    "print(\"Saved model to disk\")"
   ]
  },
  {
   "cell_type": "code",
   "execution_count": 9,
   "metadata": {},
   "outputs": [
    {
     "name": "stdout",
     "output_type": "stream",
     "text": [
      "Loaded model from disk\n",
      "Predicted and true label values saved\n",
      "Accuracy on test set :62.16216216216216%\n"
     ]
    }
   ],
   "source": [
    "# load json and create model\n",
    "from __future__ import division\n",
    "from keras.models import Sequential\n",
    "from keras.layers import Dense\n",
    "from keras.models import model_from_json\n",
    "import numpy\n",
    "import os\n",
    "import numpy as np\n",
    "\n",
    "json_file = open('fer.json', 'r')\n",
    "loaded_model_json = json_file.read()\n",
    "json_file.close()\n",
    "loaded_model = model_from_json(loaded_model_json)\n",
    "# load weights into new model\n",
    "loaded_model.load_weights(\"fer.h5\")\n",
    "print(\"Loaded model from disk\")\n",
    "\n",
    "truey=[]\n",
    "predy=[]\n",
    "x = np.load('./modXtest.npy')\n",
    "y = np.load('./modytest.npy')\n",
    "\n",
    "yhat= loaded_model.predict(x)\n",
    "yh = yhat.tolist()\n",
    "yt = y.tolist()\n",
    "count = 0\n",
    "\n",
    "for i in range(len(y)):\n",
    "    yy = max(yh[i])\n",
    "    yyt = max(yt[i])\n",
    "    predy.append(yh[i].index(yy))\n",
    "    truey.append(yt[i].index(yyt))\n",
    "    if(yh[i].index(yy)== yt[i].index(yyt)):\n",
    "        count+=1\n",
    "\n",
    "acc = (count/len(y))*100\n",
    "\n",
    "#saving values for confusion matrix and analysis\n",
    "np.save('truey', truey)\n",
    "np.save('predy', predy)\n",
    "print(\"Predicted and true label values saved\")\n",
    "print(\"Accuracy on test set :\"+str(acc)+\"%\")\n"
   ]
  },
  {
   "cell_type": "markdown",
   "metadata": {},
   "source": [
    "# CUSTOM IMAGE"
   ]
  },
  {
   "cell_type": "code",
   "execution_count": 25,
   "metadata": {},
   "outputs": [],
   "source": [
    "# load json and create model\n",
    "from __future__ import division\n",
    "from keras.models import Sequential\n",
    "from keras.layers import Dense\n",
    "from keras.models import model_from_json\n",
    "import numpy\n",
    "import os\n",
    "import numpy as np\n",
    "import cv2\n"
   ]
  },
  {
   "cell_type": "code",
   "execution_count": 26,
   "metadata": {},
   "outputs": [
    {
     "name": "stdout",
     "output_type": "stream",
     "text": [
      "Loaded model from disk\n"
     ]
    }
   ],
   "source": [
    "#loading the model\n",
    "json_file = open('fer.json', 'r')\n",
    "loaded_model_json = json_file.read()\n",
    "json_file.close()\n",
    "loaded_model = model_from_json(loaded_model_json)\n",
    "# load weights into new model\n",
    "loaded_model.load_weights(\"fer.h5\")\n",
    "print(\"Loaded model from disk\")"
   ]
  },
  {
   "cell_type": "code",
   "execution_count": 27,
   "metadata": {},
   "outputs": [],
   "source": [
    "#setting image resizing parameters\n",
    "WIDTH = 48\n",
    "HEIGHT = 48\n",
    "x=None\n",
    "y=None\n",
    "labels = ['Angry', 'Disgust', 'Fear', 'Happy', 'Sad', 'Surprise', 'Neutral']\n"
   ]
  },
  {
   "cell_type": "code",
   "execution_count": 28,
   "metadata": {},
   "outputs": [
    {
     "name": "stdout",
     "output_type": "stream",
     "text": [
      "Image Loaded\n"
     ]
    }
   ],
   "source": [
    "#loading image\n",
    "full_size_image = cv2.imread(\"test.jpg\")\n",
    "print(\"Image Loaded\")\n",
    "gray=cv2.cvtColor(full_size_image,cv2.COLOR_RGB2GRAY)\n",
    "face = cv2.CascadeClassifier('haarcascade_frontalface_default.xml')\n",
    "faces = face.detectMultiScale(gray, 1.3  , 10)\n"
   ]
  },
  {
   "cell_type": "code",
   "execution_count": 30,
   "metadata": {},
   "outputs": [
    {
     "name": "stdout",
     "output_type": "stream",
     "text": [
      "Emotion: Happy\n"
     ]
    },
    {
     "data": {
      "text/plain": [
       "-1"
      ]
     },
     "execution_count": 30,
     "metadata": {},
     "output_type": "execute_result"
    }
   ],
   "source": [
    "#detecting faces\n",
    "for (x, y, w, h) in faces:\n",
    "        roi_gray = gray[y:y + h, x:x + w]\n",
    "        cropped_img = np.expand_dims(np.expand_dims(cv2.resize(roi_gray, (48, 48)), -1), 0)\n",
    "        cv2.normalize(cropped_img, cropped_img, alpha=0, beta=1, norm_type=cv2.NORM_L2, dtype=cv2.CV_32F)\n",
    "        cv2.rectangle(full_size_image, (x, y), (x + w, y + h), (0, 255, 0), 1)\n",
    "        #predicting the emotion\n",
    "        yhat= loaded_model.predict(cropped_img)\n",
    "        cv2.putText(full_size_image, labels[int(np.argmax(yhat))], (x, y), cv2.FONT_HERSHEY_SIMPLEX, 0.8, (0, 255, 0), 1, cv2.LINE_AA)\n",
    "        print(\"Emotion: \"+labels[int(np.argmax(yhat))])\n",
    "\n",
    "cv2.imshow('Emotion', full_size_image)\n",
    "cv2.waitKey()"
   ]
  },
  {
   "cell_type": "code",
   "execution_count": null,
   "metadata": {},
   "outputs": [],
   "source": []
  }
 ],
 "metadata": {
  "kernelspec": {
   "display_name": "Python 3",
   "language": "python",
   "name": "python3"
  },
  "language_info": {
   "codemirror_mode": {
    "name": "ipython",
    "version": 3
   },
   "file_extension": ".py",
   "mimetype": "text/x-python",
   "name": "python",
   "nbconvert_exporter": "python",
   "pygments_lexer": "ipython3",
   "version": "3.8.3"
  }
 },
 "nbformat": 4,
 "nbformat_minor": 4
}
